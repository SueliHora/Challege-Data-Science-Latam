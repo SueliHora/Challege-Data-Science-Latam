{
  "nbformat": 4,
  "nbformat_minor": 0,
  "metadata": {
    "colab": {
      "provenance": [],
      "include_colab_link": true
    },
    "kernelspec": {
      "name": "python3",
      "display_name": "Python 3"
    },
    "language_info": {
      "name": "python"
    }
  },
  "cells": [
    {
      "cell_type": "markdown",
      "metadata": {
        "id": "view-in-github",
        "colab_type": "text"
      },
      "source": [
        "<a href=\"https://colab.research.google.com/github/SueliHora/Challege-Data-Science-Latam/blob/main/AluraStoreBr.ipynb\" target=\"_parent\"><img src=\"https://colab.research.google.com/assets/colab-badge.svg\" alt=\"Open In Colab\"/></a>"
      ]
    },
    {
      "cell_type": "markdown",
      "source": [
        "### Importação dos dados\n",
        "\n"
      ],
      "metadata": {
        "id": "RhEdWd9YUR6H"
      }
    },
    {
      "cell_type": "code",
      "execution_count": 2,
      "metadata": {
        "colab": {
          "base_uri": "https://localhost:8080/",
          "height": 206
        },
        "id": "T3EvaeQ_INIL",
        "outputId": "ec60f9b9-f2dc-4354-a9f6-49a379e32e0a"
      },
      "outputs": [
        {
          "output_type": "execute_result",
          "data": {
            "text/plain": [
              "                 Produto Categoria do Produto    Preço      Frete  \\\n",
              "0     Assistente virtual          eletronicos   219.08   9.249790   \n",
              "1         Mesa de jantar               moveis   256.35  11.234305   \n",
              "2      Jogo de tabuleiro           brinquedos   279.51  21.262681   \n",
              "3            Micro-ondas     eletrodomesticos  1009.99  54.667344   \n",
              "4  Cadeira de escritório               moveis   446.99  26.964689   \n",
              "\n",
              "  Data da Compra        Vendedor Local da compra  Avaliação da compra  \\\n",
              "0     16/01/2021     Pedro Gomes              SP                    4   \n",
              "1     18/05/2022  Beatriz Moraes              RJ                    1   \n",
              "2     15/03/2021      João Souza              DF                    1   \n",
              "3     03/05/2022      João Souza              RS                    4   \n",
              "4     07/11/2020   Larissa Alves              MG                    5   \n",
              "\n",
              "  Tipo de pagamento  Quantidade de parcelas    lat    lon  \n",
              "0    cartao_credito                       8 -22.19 -48.79  \n",
              "1    cartao_credito                       4 -22.25 -42.66  \n",
              "2    cartao_credito                       1 -15.83 -47.86  \n",
              "3            boleto                       1 -30.17 -53.50  \n",
              "4            boleto                       1 -18.10 -44.38  "
            ],
            "text/html": [
              "\n",
              "  <div id=\"df-e5cf02c6-3153-4a25-8d7f-47839caf9f0f\" class=\"colab-df-container\">\n",
              "    <div>\n",
              "<style scoped>\n",
              "    .dataframe tbody tr th:only-of-type {\n",
              "        vertical-align: middle;\n",
              "    }\n",
              "\n",
              "    .dataframe tbody tr th {\n",
              "        vertical-align: top;\n",
              "    }\n",
              "\n",
              "    .dataframe thead th {\n",
              "        text-align: right;\n",
              "    }\n",
              "</style>\n",
              "<table border=\"1\" class=\"dataframe\">\n",
              "  <thead>\n",
              "    <tr style=\"text-align: right;\">\n",
              "      <th></th>\n",
              "      <th>Produto</th>\n",
              "      <th>Categoria do Produto</th>\n",
              "      <th>Preço</th>\n",
              "      <th>Frete</th>\n",
              "      <th>Data da Compra</th>\n",
              "      <th>Vendedor</th>\n",
              "      <th>Local da compra</th>\n",
              "      <th>Avaliação da compra</th>\n",
              "      <th>Tipo de pagamento</th>\n",
              "      <th>Quantidade de parcelas</th>\n",
              "      <th>lat</th>\n",
              "      <th>lon</th>\n",
              "    </tr>\n",
              "  </thead>\n",
              "  <tbody>\n",
              "    <tr>\n",
              "      <th>0</th>\n",
              "      <td>Assistente virtual</td>\n",
              "      <td>eletronicos</td>\n",
              "      <td>219.08</td>\n",
              "      <td>9.249790</td>\n",
              "      <td>16/01/2021</td>\n",
              "      <td>Pedro Gomes</td>\n",
              "      <td>SP</td>\n",
              "      <td>4</td>\n",
              "      <td>cartao_credito</td>\n",
              "      <td>8</td>\n",
              "      <td>-22.19</td>\n",
              "      <td>-48.79</td>\n",
              "    </tr>\n",
              "    <tr>\n",
              "      <th>1</th>\n",
              "      <td>Mesa de jantar</td>\n",
              "      <td>moveis</td>\n",
              "      <td>256.35</td>\n",
              "      <td>11.234305</td>\n",
              "      <td>18/05/2022</td>\n",
              "      <td>Beatriz Moraes</td>\n",
              "      <td>RJ</td>\n",
              "      <td>1</td>\n",
              "      <td>cartao_credito</td>\n",
              "      <td>4</td>\n",
              "      <td>-22.25</td>\n",
              "      <td>-42.66</td>\n",
              "    </tr>\n",
              "    <tr>\n",
              "      <th>2</th>\n",
              "      <td>Jogo de tabuleiro</td>\n",
              "      <td>brinquedos</td>\n",
              "      <td>279.51</td>\n",
              "      <td>21.262681</td>\n",
              "      <td>15/03/2021</td>\n",
              "      <td>João Souza</td>\n",
              "      <td>DF</td>\n",
              "      <td>1</td>\n",
              "      <td>cartao_credito</td>\n",
              "      <td>1</td>\n",
              "      <td>-15.83</td>\n",
              "      <td>-47.86</td>\n",
              "    </tr>\n",
              "    <tr>\n",
              "      <th>3</th>\n",
              "      <td>Micro-ondas</td>\n",
              "      <td>eletrodomesticos</td>\n",
              "      <td>1009.99</td>\n",
              "      <td>54.667344</td>\n",
              "      <td>03/05/2022</td>\n",
              "      <td>João Souza</td>\n",
              "      <td>RS</td>\n",
              "      <td>4</td>\n",
              "      <td>boleto</td>\n",
              "      <td>1</td>\n",
              "      <td>-30.17</td>\n",
              "      <td>-53.50</td>\n",
              "    </tr>\n",
              "    <tr>\n",
              "      <th>4</th>\n",
              "      <td>Cadeira de escritório</td>\n",
              "      <td>moveis</td>\n",
              "      <td>446.99</td>\n",
              "      <td>26.964689</td>\n",
              "      <td>07/11/2020</td>\n",
              "      <td>Larissa Alves</td>\n",
              "      <td>MG</td>\n",
              "      <td>5</td>\n",
              "      <td>boleto</td>\n",
              "      <td>1</td>\n",
              "      <td>-18.10</td>\n",
              "      <td>-44.38</td>\n",
              "    </tr>\n",
              "  </tbody>\n",
              "</table>\n",
              "</div>\n",
              "    <div class=\"colab-df-buttons\">\n",
              "\n",
              "  <div class=\"colab-df-container\">\n",
              "    <button class=\"colab-df-convert\" onclick=\"convertToInteractive('df-e5cf02c6-3153-4a25-8d7f-47839caf9f0f')\"\n",
              "            title=\"Convert this dataframe to an interactive table.\"\n",
              "            style=\"display:none;\">\n",
              "\n",
              "  <svg xmlns=\"http://www.w3.org/2000/svg\" height=\"24px\" viewBox=\"0 -960 960 960\">\n",
              "    <path d=\"M120-120v-720h720v720H120Zm60-500h600v-160H180v160Zm220 220h160v-160H400v160Zm0 220h160v-160H400v160ZM180-400h160v-160H180v160Zm440 0h160v-160H620v160ZM180-180h160v-160H180v160Zm440 0h160v-160H620v160Z\"/>\n",
              "  </svg>\n",
              "    </button>\n",
              "\n",
              "  <style>\n",
              "    .colab-df-container {\n",
              "      display:flex;\n",
              "      gap: 12px;\n",
              "    }\n",
              "\n",
              "    .colab-df-convert {\n",
              "      background-color: #E8F0FE;\n",
              "      border: none;\n",
              "      border-radius: 50%;\n",
              "      cursor: pointer;\n",
              "      display: none;\n",
              "      fill: #1967D2;\n",
              "      height: 32px;\n",
              "      padding: 0 0 0 0;\n",
              "      width: 32px;\n",
              "    }\n",
              "\n",
              "    .colab-df-convert:hover {\n",
              "      background-color: #E2EBFA;\n",
              "      box-shadow: 0px 1px 2px rgba(60, 64, 67, 0.3), 0px 1px 3px 1px rgba(60, 64, 67, 0.15);\n",
              "      fill: #174EA6;\n",
              "    }\n",
              "\n",
              "    .colab-df-buttons div {\n",
              "      margin-bottom: 4px;\n",
              "    }\n",
              "\n",
              "    [theme=dark] .colab-df-convert {\n",
              "      background-color: #3B4455;\n",
              "      fill: #D2E3FC;\n",
              "    }\n",
              "\n",
              "    [theme=dark] .colab-df-convert:hover {\n",
              "      background-color: #434B5C;\n",
              "      box-shadow: 0px 1px 3px 1px rgba(0, 0, 0, 0.15);\n",
              "      filter: drop-shadow(0px 1px 2px rgba(0, 0, 0, 0.3));\n",
              "      fill: #FFFFFF;\n",
              "    }\n",
              "  </style>\n",
              "\n",
              "    <script>\n",
              "      const buttonEl =\n",
              "        document.querySelector('#df-e5cf02c6-3153-4a25-8d7f-47839caf9f0f button.colab-df-convert');\n",
              "      buttonEl.style.display =\n",
              "        google.colab.kernel.accessAllowed ? 'block' : 'none';\n",
              "\n",
              "      async function convertToInteractive(key) {\n",
              "        const element = document.querySelector('#df-e5cf02c6-3153-4a25-8d7f-47839caf9f0f');\n",
              "        const dataTable =\n",
              "          await google.colab.kernel.invokeFunction('convertToInteractive',\n",
              "                                                    [key], {});\n",
              "        if (!dataTable) return;\n",
              "\n",
              "        const docLinkHtml = 'Like what you see? Visit the ' +\n",
              "          '<a target=\"_blank\" href=https://colab.research.google.com/notebooks/data_table.ipynb>data table notebook</a>'\n",
              "          + ' to learn more about interactive tables.';\n",
              "        element.innerHTML = '';\n",
              "        dataTable['output_type'] = 'display_data';\n",
              "        await google.colab.output.renderOutput(dataTable, element);\n",
              "        const docLink = document.createElement('div');\n",
              "        docLink.innerHTML = docLinkHtml;\n",
              "        element.appendChild(docLink);\n",
              "      }\n",
              "    </script>\n",
              "  </div>\n",
              "\n",
              "\n",
              "    <div id=\"df-1f870b1e-c3fb-4a38-afc9-61c6f3bf66b6\">\n",
              "      <button class=\"colab-df-quickchart\" onclick=\"quickchart('df-1f870b1e-c3fb-4a38-afc9-61c6f3bf66b6')\"\n",
              "                title=\"Suggest charts\"\n",
              "                style=\"display:none;\">\n",
              "\n",
              "<svg xmlns=\"http://www.w3.org/2000/svg\" height=\"24px\"viewBox=\"0 0 24 24\"\n",
              "     width=\"24px\">\n",
              "    <g>\n",
              "        <path d=\"M19 3H5c-1.1 0-2 .9-2 2v14c0 1.1.9 2 2 2h14c1.1 0 2-.9 2-2V5c0-1.1-.9-2-2-2zM9 17H7v-7h2v7zm4 0h-2V7h2v10zm4 0h-2v-4h2v4z\"/>\n",
              "    </g>\n",
              "</svg>\n",
              "      </button>\n",
              "\n",
              "<style>\n",
              "  .colab-df-quickchart {\n",
              "      --bg-color: #E8F0FE;\n",
              "      --fill-color: #1967D2;\n",
              "      --hover-bg-color: #E2EBFA;\n",
              "      --hover-fill-color: #174EA6;\n",
              "      --disabled-fill-color: #AAA;\n",
              "      --disabled-bg-color: #DDD;\n",
              "  }\n",
              "\n",
              "  [theme=dark] .colab-df-quickchart {\n",
              "      --bg-color: #3B4455;\n",
              "      --fill-color: #D2E3FC;\n",
              "      --hover-bg-color: #434B5C;\n",
              "      --hover-fill-color: #FFFFFF;\n",
              "      --disabled-bg-color: #3B4455;\n",
              "      --disabled-fill-color: #666;\n",
              "  }\n",
              "\n",
              "  .colab-df-quickchart {\n",
              "    background-color: var(--bg-color);\n",
              "    border: none;\n",
              "    border-radius: 50%;\n",
              "    cursor: pointer;\n",
              "    display: none;\n",
              "    fill: var(--fill-color);\n",
              "    height: 32px;\n",
              "    padding: 0;\n",
              "    width: 32px;\n",
              "  }\n",
              "\n",
              "  .colab-df-quickchart:hover {\n",
              "    background-color: var(--hover-bg-color);\n",
              "    box-shadow: 0 1px 2px rgba(60, 64, 67, 0.3), 0 1px 3px 1px rgba(60, 64, 67, 0.15);\n",
              "    fill: var(--button-hover-fill-color);\n",
              "  }\n",
              "\n",
              "  .colab-df-quickchart-complete:disabled,\n",
              "  .colab-df-quickchart-complete:disabled:hover {\n",
              "    background-color: var(--disabled-bg-color);\n",
              "    fill: var(--disabled-fill-color);\n",
              "    box-shadow: none;\n",
              "  }\n",
              "\n",
              "  .colab-df-spinner {\n",
              "    border: 2px solid var(--fill-color);\n",
              "    border-color: transparent;\n",
              "    border-bottom-color: var(--fill-color);\n",
              "    animation:\n",
              "      spin 1s steps(1) infinite;\n",
              "  }\n",
              "\n",
              "  @keyframes spin {\n",
              "    0% {\n",
              "      border-color: transparent;\n",
              "      border-bottom-color: var(--fill-color);\n",
              "      border-left-color: var(--fill-color);\n",
              "    }\n",
              "    20% {\n",
              "      border-color: transparent;\n",
              "      border-left-color: var(--fill-color);\n",
              "      border-top-color: var(--fill-color);\n",
              "    }\n",
              "    30% {\n",
              "      border-color: transparent;\n",
              "      border-left-color: var(--fill-color);\n",
              "      border-top-color: var(--fill-color);\n",
              "      border-right-color: var(--fill-color);\n",
              "    }\n",
              "    40% {\n",
              "      border-color: transparent;\n",
              "      border-right-color: var(--fill-color);\n",
              "      border-top-color: var(--fill-color);\n",
              "    }\n",
              "    60% {\n",
              "      border-color: transparent;\n",
              "      border-right-color: var(--fill-color);\n",
              "    }\n",
              "    80% {\n",
              "      border-color: transparent;\n",
              "      border-right-color: var(--fill-color);\n",
              "      border-bottom-color: var(--fill-color);\n",
              "    }\n",
              "    90% {\n",
              "      border-color: transparent;\n",
              "      border-bottom-color: var(--fill-color);\n",
              "    }\n",
              "  }\n",
              "</style>\n",
              "\n",
              "      <script>\n",
              "        async function quickchart(key) {\n",
              "          const quickchartButtonEl =\n",
              "            document.querySelector('#' + key + ' button');\n",
              "          quickchartButtonEl.disabled = true;  // To prevent multiple clicks.\n",
              "          quickchartButtonEl.classList.add('colab-df-spinner');\n",
              "          try {\n",
              "            const charts = await google.colab.kernel.invokeFunction(\n",
              "                'suggestCharts', [key], {});\n",
              "          } catch (error) {\n",
              "            console.error('Error during call to suggestCharts:', error);\n",
              "          }\n",
              "          quickchartButtonEl.classList.remove('colab-df-spinner');\n",
              "          quickchartButtonEl.classList.add('colab-df-quickchart-complete');\n",
              "        }\n",
              "        (() => {\n",
              "          let quickchartButtonEl =\n",
              "            document.querySelector('#df-1f870b1e-c3fb-4a38-afc9-61c6f3bf66b6 button');\n",
              "          quickchartButtonEl.style.display =\n",
              "            google.colab.kernel.accessAllowed ? 'block' : 'none';\n",
              "        })();\n",
              "      </script>\n",
              "    </div>\n",
              "\n",
              "    </div>\n",
              "  </div>\n"
            ],
            "application/vnd.google.colaboratory.intrinsic+json": {
              "type": "dataframe",
              "variable_name": "loja",
              "summary": "{\n  \"name\": \"loja\",\n  \"rows\": 2359,\n  \"fields\": [\n    {\n      \"column\": \"Produto\",\n      \"properties\": {\n        \"dtype\": \"category\",\n        \"num_unique_values\": 51,\n        \"samples\": [\n          \"Viol\\u00e3o\",\n          \"Bola de basquete\",\n          \"Smartwatch\"\n        ],\n        \"semantic_type\": \"\",\n        \"description\": \"\"\n      }\n    },\n    {\n      \"column\": \"Categoria do Produto\",\n      \"properties\": {\n        \"dtype\": \"category\",\n        \"num_unique_values\": 8,\n        \"samples\": [\n          \"moveis\",\n          \"esporte e lazer\",\n          \"eletronicos\"\n        ],\n        \"semantic_type\": \"\",\n        \"description\": \"\"\n      }\n    },\n    {\n      \"column\": \"Pre\\u00e7o\",\n      \"properties\": {\n        \"dtype\": \"number\",\n        \"std\": 819.5827782539145,\n        \"min\": 10.07,\n        \"max\": 3969.38,\n        \"num_unique_values\": 2315,\n        \"samples\": [\n          446.11,\n          107.31,\n          65.86\n        ],\n        \"semantic_type\": \"\",\n        \"description\": \"\"\n      }\n    },\n    {\n      \"column\": \"Frete\",\n      \"properties\": {\n        \"dtype\": \"number\",\n        \"std\": 43.814183327408166,\n        \"min\": 0.0,\n        \"max\": 214.3770604781,\n        \"num_unique_values\": 2149,\n        \"samples\": [\n          83.815279607,\n          16.069664669,\n          14.0344876928\n        ],\n        \"semantic_type\": \"\",\n        \"description\": \"\"\n      }\n    },\n    {\n      \"column\": \"Data da Compra\",\n      \"properties\": {\n        \"dtype\": \"object\",\n        \"num_unique_values\": 1018,\n        \"samples\": [\n          \"15/09/2022\",\n          \"03/06/2020\",\n          \"06/11/2021\"\n        ],\n        \"semantic_type\": \"\",\n        \"description\": \"\"\n      }\n    },\n    {\n      \"column\": \"Vendedor\",\n      \"properties\": {\n        \"dtype\": \"category\",\n        \"num_unique_values\": 14,\n        \"samples\": [\n          \"Juliana Costa\",\n          \"Mariana Ferreira\",\n          \"Pedro Gomes\"\n        ],\n        \"semantic_type\": \"\",\n        \"description\": \"\"\n      }\n    },\n    {\n      \"column\": \"Local da compra\",\n      \"properties\": {\n        \"dtype\": \"category\",\n        \"num_unique_values\": 26,\n        \"samples\": [\n          \"TO\",\n          \"RN\",\n          \"SP\"\n        ],\n        \"semantic_type\": \"\",\n        \"description\": \"\"\n      }\n    },\n    {\n      \"column\": \"Avalia\\u00e7\\u00e3o da compra\",\n      \"properties\": {\n        \"dtype\": \"number\",\n        \"std\": 1,\n        \"min\": 1,\n        \"max\": 5,\n        \"num_unique_values\": 5,\n        \"samples\": [\n          1,\n          2,\n          5\n        ],\n        \"semantic_type\": \"\",\n        \"description\": \"\"\n      }\n    },\n    {\n      \"column\": \"Tipo de pagamento\",\n      \"properties\": {\n        \"dtype\": \"category\",\n        \"num_unique_values\": 4,\n        \"samples\": [\n          \"boleto\",\n          \"cartao_debito\",\n          \"cartao_credito\"\n        ],\n        \"semantic_type\": \"\",\n        \"description\": \"\"\n      }\n    },\n    {\n      \"column\": \"Quantidade de parcelas\",\n      \"properties\": {\n        \"dtype\": \"number\",\n        \"std\": 2,\n        \"min\": 1,\n        \"max\": 24,\n        \"num_unique_values\": 15,\n        \"samples\": [\n          7,\n          14,\n          8\n        ],\n        \"semantic_type\": \"\",\n        \"description\": \"\"\n      }\n    },\n    {\n      \"column\": \"lat\",\n      \"properties\": {\n        \"dtype\": \"number\",\n        \"std\": 5.372399916530833,\n        \"min\": -30.17,\n        \"max\": 1.41,\n        \"num_unique_values\": 26,\n        \"samples\": [\n          -9.46,\n          -5.81,\n          -22.19\n        ],\n        \"semantic_type\": \"\",\n        \"description\": \"\"\n      }\n    },\n    {\n      \"column\": \"lon\",\n      \"properties\": {\n        \"dtype\": \"number\",\n        \"std\": 4.183180020544179,\n        \"min\": -70.55,\n        \"max\": -36.59,\n        \"num_unique_values\": 26,\n        \"samples\": [\n          -48.26,\n          -36.59,\n          -48.79\n        ],\n        \"semantic_type\": \"\",\n        \"description\": \"\"\n      }\n    }\n  ]\n}"
            }
          },
          "metadata": {},
          "execution_count": 2
        }
      ],
      "source": [
        "import pandas as pd\n",
        "\n",
        "url = \"https://raw.githubusercontent.com/alura-es-cursos/challenge1-data-science/refs/heads/main/base-de-dados-challenge-1/loja_1.csv\"\n",
        "url2 = \"https://raw.githubusercontent.com/alura-es-cursos/challenge1-data-science/refs/heads/main/base-de-dados-challenge-1/loja_2.csv\"\n",
        "url3 = \"https://raw.githubusercontent.com/alura-es-cursos/challenge1-data-science/refs/heads/main/base-de-dados-challenge-1/loja_3.csv\"\n",
        "url4 = \"https://raw.githubusercontent.com/alura-es-cursos/challenge1-data-science/refs/heads/main/base-de-dados-challenge-1/loja_4.csv\"\n",
        "\n",
        "loja = pd.read_csv(url)\n",
        "loja2 = pd.read_csv(url2)\n",
        "loja3 = pd.read_csv(url3)\n",
        "loja4 = pd.read_csv(url4)\n",
        "\n",
        "loja.head()"
      ]
    },
    {
      "cell_type": "markdown",
      "source": [
        "#1. Análise do faturamento\n"
      ],
      "metadata": {
        "id": "X62IW3KFUIYm"
      }
    },
    {
      "cell_type": "code",
      "source": [
        "# Calculo faturamento total para cada loja\n",
        "faturamento_loja1 = loja['Preço'].sum()\n",
        "faturamento_loja2 = loja2['Preço'].sum()\n",
        "faturamento_loja3 = loja3['Preço'].sum()\n",
        "faturamento_loja4 = loja4['Preço'].sum()\n",
        "\n",
        "# Imprime os resultados para visualização\n",
        "print(f\"Faturamento Loja 1: R$ {faturamento_loja1:.2f}\")\n",
        "print(f\"Faturamento Loja 2: R$ {faturamento_loja2:.2f}\")\n",
        "print(f\"Faturamento Loja 3: R$ {faturamento_loja3:.2f}\")\n",
        "print(f\"Faturamento Loja 4: R$ {faturamento_loja4:.2f}\")"
      ],
      "metadata": {
        "id": "xykobSftV64I",
        "colab": {
          "base_uri": "https://localhost:8080/"
        },
        "outputId": "79e94475-1b24-4e79-c2b8-a047353c9225"
      },
      "execution_count": 13,
      "outputs": [
        {
          "output_type": "stream",
          "name": "stdout",
          "text": [
            "Faturamento Loja 1: R$ 1534509.12\n",
            "Faturamento Loja 2: R$ 1488459.06\n",
            "Faturamento Loja 3: R$ 1464025.03\n",
            "Faturamento Loja 4: R$ 1384497.58\n"
          ]
        }
      ]
    },
    {
      "cell_type": "markdown",
      "source": [
        "# 2. Vendas por Categoria\n"
      ],
      "metadata": {
        "id": "2V_vcAPzWZmR"
      }
    },
    {
      "cell_type": "code",
      "source": [
        "# Contar as vendas por categoria para cada loja\n",
        "vendas_categoria_loja1 = loja['Categoria do Produto'].value_counts()\n",
        "vendas_categoria_loja2 = loja2['Categoria do Produto'].value_counts()\n",
        "vendas_categoria_loja3 = loja3['Categoria do Produto'].value_counts()\n",
        "vendas_categoria_loja4 = loja4['Categoria do Produto'].value_counts()\n",
        "\n",
        "# Imprimir as categorias mais populares (por exemplo, as 5 primeiras) de cada loja\n",
        "print(\"--- Loja 1: Categorias Mais Populares ---\")\n",
        "print(vendas_categoria_loja1.head()) # .head() mostra as 5 primeiras por padrão\n",
        "print(\"\\n--- Loja 2: Categorias Mais Populares ---\")\n",
        "print(vendas_categoria_loja2.head())\n",
        "print(\"\\n--- Loja 3: Categorias Mais Populares ---\")\n",
        "print(vendas_categoria_loja3.head())\n",
        "print(\"\\n--- Loja 4: Categorias Mais Populares ---\")\n",
        "print(vendas_categoria_loja4.head())"
      ],
      "metadata": {
        "id": "A34YupIuYhfF",
        "colab": {
          "base_uri": "https://localhost:8080/"
        },
        "outputId": "b39b589e-8a11-4291-a020-e7d1f29efc92"
      },
      "execution_count": 15,
      "outputs": [
        {
          "output_type": "stream",
          "name": "stdout",
          "text": [
            "--- Loja 1: Categorias Mais Populares ---\n",
            "Categoria do Produto\n",
            "moveis              465\n",
            "eletronicos         448\n",
            "brinquedos          324\n",
            "eletrodomesticos    312\n",
            "esporte e lazer     284\n",
            "Name: count, dtype: int64\n",
            "\n",
            "--- Loja 2: Categorias Mais Populares ---\n",
            "Categoria do Produto\n",
            "moveis              442\n",
            "eletronicos         422\n",
            "brinquedos          313\n",
            "eletrodomesticos    305\n",
            "esporte e lazer     275\n",
            "Name: count, dtype: int64\n",
            "\n",
            "--- Loja 3: Categorias Mais Populares ---\n",
            "Categoria do Produto\n",
            "moveis              499\n",
            "eletronicos         451\n",
            "brinquedos          315\n",
            "eletrodomesticos    278\n",
            "esporte e lazer     277\n",
            "Name: count, dtype: int64\n",
            "\n",
            "--- Loja 4: Categorias Mais Populares ---\n",
            "Categoria do Produto\n",
            "moveis              480\n",
            "eletronicos         451\n",
            "brinquedos          338\n",
            "esporte e lazer     277\n",
            "eletrodomesticos    254\n",
            "Name: count, dtype: int64\n"
          ]
        }
      ]
    },
    {
      "cell_type": "markdown",
      "source": [
        "# 3. Média de Avaliação das Lojas"
      ],
      "metadata": {
        "id": "Rq6tU_xSY3jk"
      }
    },
    {
      "cell_type": "code",
      "source": [
        "# Calcular a média de avaliação para cada loja\n",
        "media_avaliacao_loja1 = loja['Avaliação da compra'].mean()\n",
        "media_avaliacao_loja2 = loja2['Avaliação da compra'].mean()\n",
        "media_avaliacao_loja3 = loja3['Avaliação da compra'].mean()\n",
        "media_avaliacao_loja4 = loja4['Avaliação da compra'].mean()\n",
        "\n",
        "# Imprimir as médias de avaliação\n",
        "# Usei.2f para arredondar para 2 casas decimais, facilitando a comparação\n",
        "print(f\"Média de Avaliação Loja 1: {media_avaliacao_loja1:.2f}\")\n",
        "print(f\"Média de Avaliação Loja 2: {media_avaliacao_loja2:.2f}\")\n",
        "print(f\"Média de Avaliação Loja 3: {media_avaliacao_loja3:.2f}\")\n",
        "print(f\"Média de Avaliação Loja 4: {media_avaliacao_loja4:.2f}\")"
      ],
      "metadata": {
        "id": "bh3jjjJwY5MU",
        "colab": {
          "base_uri": "https://localhost:8080/"
        },
        "outputId": "0597d6c4-e9f8-4573-9d7f-9cffc3d9867c"
      },
      "execution_count": 16,
      "outputs": [
        {
          "output_type": "stream",
          "name": "stdout",
          "text": [
            "Média de Avaliação Loja 1: 3.98\n",
            "Média de Avaliação Loja 2: 4.04\n",
            "Média de Avaliação Loja 3: 4.05\n",
            "Média de Avaliação Loja 4: 4.00\n"
          ]
        }
      ]
    },
    {
      "cell_type": "markdown",
      "source": [
        "# 4. Produtos Mais e Menos Vendidos"
      ],
      "metadata": {
        "id": "DmNp1KPBZCm-"
      }
    },
    {
      "cell_type": "code",
      "source": [
        "# Contar as vendas por produto para cada loja\n",
        "vendas_produto_loja1 = loja['Produto'].value_counts()\n",
        "vendas_produto_loja2 = loja2['Produto'].value_counts()\n",
        "vendas_produto_loja3 = loja3['Produto'].value_counts()\n",
        "vendas_produto_loja4 = loja4['Produto'].value_counts()\n",
        "\n",
        "# Imprimir os 5 produtos MAIS vendidos de cada loja\n",
        "print(\"--- Loja 1: Produtos MAIS Vendidos ---\")\n",
        "print(vendas_produto_loja1.head())\n",
        "print(\"\\n--- Loja 2: Produtos MAIS Vendidos ---\")\n",
        "print(vendas_produto_loja2.head())\n",
        "print(\"\\n--- Loja 3: Produtos MAIS Vendidos ---\")\n",
        "print(vendas_produto_loja3.head())\n",
        "print(\"\\n--- Loja 4: Produtos MAIS Vendidos ---\")\n",
        "print(vendas_produto_loja4.head())\n",
        "\n",
        "print(\"\\n=========================================\\n\") # Separador maior\n",
        "\n",
        "# Imprimir os 5 produtos MENOS vendidos de cada loja\n",
        "print(\"--- Loja 1: Produtos MENOS Vendidos ---\")\n",
        "print(vendas_produto_loja1.tail())\n",
        "print(\"\\n--- Loja 2: Produtos MENOS Vendidos ---\")\n",
        "print(vendas_produto_loja2.tail())\n",
        "print(\"\\n--- Loja 3: Produtos MENOS Vendidos ---\")\n",
        "print(vendas_produto_loja3.tail())\n",
        "print(\"\\n--- Loja 4: Produtos MENOS Vendidos ---\")\n",
        "print(vendas_produto_loja4.tail())"
      ],
      "metadata": {
        "id": "qoyjqijQZHfF",
        "colab": {
          "base_uri": "https://localhost:8080/"
        },
        "outputId": "b7da4c03-5656-4a0b-e6ca-28fd59081393"
      },
      "execution_count": 17,
      "outputs": [
        {
          "output_type": "stream",
          "name": "stdout",
          "text": [
            "--- Loja 1: Produtos MAIS Vendidos ---\n",
            "Produto\n",
            "Micro-ondas           60\n",
            "TV Led UHD 4K         60\n",
            "Guarda roupas         60\n",
            "Secadora de roupas    58\n",
            "Cômoda                56\n",
            "Name: count, dtype: int64\n",
            "\n",
            "--- Loja 2: Produtos MAIS Vendidos ---\n",
            "Produto\n",
            "Iniciando em programação    65\n",
            "Micro-ondas                 62\n",
            "Bateria                     61\n",
            "Violão                      58\n",
            "Pandeiro                    58\n",
            "Name: count, dtype: int64\n",
            "\n",
            "--- Loja 3: Produtos MAIS Vendidos ---\n",
            "Produto\n",
            "Kit banquetas      57\n",
            "Mesa de jantar     56\n",
            "Cama king          56\n",
            "Jogo de panelas    55\n",
            "Cômoda             55\n",
            "Name: count, dtype: int64\n",
            "\n",
            "--- Loja 4: Produtos MAIS Vendidos ---\n",
            "Produto\n",
            "Cama box                    62\n",
            "Faqueiro                    59\n",
            "Dashboards com Power BI     56\n",
            "Cama king                   56\n",
            "Carrinho controle remoto    55\n",
            "Name: count, dtype: int64\n",
            "\n",
            "=========================================\n",
            "\n",
            "--- Loja 1: Produtos MENOS Vendidos ---\n",
            "Produto\n",
            "Ciência de dados com python    39\n",
            "Pandeiro                       36\n",
            "Panela de pressão              35\n",
            "Headset                        33\n",
            "Celular ABXY                   33\n",
            "Name: count, dtype: int64\n",
            "\n",
            "--- Loja 2: Produtos MENOS Vendidos ---\n",
            "Produto\n",
            "Fone de ouvido       37\n",
            "Poltrona             35\n",
            "Mesa de jantar       34\n",
            "Impressora           34\n",
            "Jogo de tabuleiro    32\n",
            "Name: count, dtype: int64\n",
            "\n",
            "--- Loja 3: Produtos MENOS Vendidos ---\n",
            "Produto\n",
            "Guitarra            38\n",
            "Jogo de copos       36\n",
            "Mochila             36\n",
            "Micro-ondas         36\n",
            "Blocos de montar    35\n",
            "Name: count, dtype: int64\n",
            "\n",
            "--- Loja 4: Produtos MENOS Vendidos ---\n",
            "Produto\n",
            "Geladeira                      38\n",
            "Ciência de dados com python    38\n",
            "Violão                         37\n",
            "Guarda roupas                  34\n",
            "Guitarra                       33\n",
            "Name: count, dtype: int64\n"
          ]
        }
      ]
    },
    {
      "cell_type": "markdown",
      "source": [
        "# 5. Frete Médio por Loja\n"
      ],
      "metadata": {
        "id": "Fl0cGi3bZKqU"
      }
    },
    {
      "cell_type": "code",
      "source": [
        "# Calcular o custo médio do frete para cada loja (Métrica 5)\n",
        "media_frete_loja1 = loja['Frete'].mean()\n",
        "media_frete_loja2 = loja2['Frete'].mean()\n",
        "media_frete_loja3 = loja3['Frete'].mean()\n",
        "media_frete_loja4 = loja4['Frete'].mean()\n",
        "\n",
        "# Imprimir as médias de frete\n",
        "print(f\"Custo Médio do Frete Loja 1: R$ {media_frete_loja1:.2f}\")\n",
        "print(f\"Custo Médio do Frete Loja 2: R$ {media_frete_loja2:.2f}\")\n",
        "print(f\"Custo Médio do Frete Loja 3: R$ {media_frete_loja3:.2f}\")\n",
        "print(f\"Custo Médio do Frete Loja 4: R$ {media_frete_loja4:.2f}\")"
      ],
      "metadata": {
        "id": "S2JeaCykZNy9",
        "colab": {
          "base_uri": "https://localhost:8080/"
        },
        "outputId": "7805a64d-c082-4afa-ed8f-c542a8552967"
      },
      "execution_count": 7,
      "outputs": [
        {
          "output_type": "stream",
          "name": "stdout",
          "text": [
            "Custo Médio do Frete Loja 1: R$ 34.69\n",
            "Custo Médio do Frete Loja 2: R$ 33.62\n",
            "Custo Médio do Frete Loja 3: R$ 33.07\n",
            "Custo Médio do Frete Loja 4: R$ 31.28\n"
          ]
        }
      ]
    },
    {
      "cell_type": "code",
      "source": [],
      "metadata": {
        "id": "0tSdCie9ZQlt"
      },
      "execution_count": 2,
      "outputs": []
    },
    {
      "cell_type": "markdown",
      "source": [
        "Gráfico 1: Faturamento por Loja"
      ],
      "metadata": {
        "id": "VDZoDl69tvUC"
      }
    },
    {
      "cell_type": "code",
      "source": [
        "import matplotlib.pyplot as plt\n",
        "\n",
        "# Dados para o gráfico de faturamento\n",
        "lojas_nomes = ['Loja 1', 'Loja 2', 'Loja 3', 'Loja 4']\n",
        "faturamentos = [faturamento_loja1, faturamento_loja2, faturamento_loja3, faturamento_loja4]\n",
        "\n",
        "# Criar o gráfico de barras\n",
        "plt.figure(figsize=(8, 5)) # Define o tamanho da figura (opcional, ajusta a aparência)\n",
        "plt.bar(lojas_nomes, faturamentos, color=['skyblue', 'lightcoral', 'lightgreen', 'gold']) # Cria as barras com cores diferentes\n",
        "\n",
        "# Adicionar título e rótulos aos eixos\n",
        "plt.title('Faturamento Total por Loja')\n",
        "plt.xlabel('Lojas')\n",
        "plt.ylabel('Faturamento (em milhões de R$)')\n",
        "\n",
        "# Adicionar rótulos de dados (valores) acima das barras (opcional, mas útil)\n",
        "for i, v in enumerate(faturamentos):\n",
        "    plt.text(i, v + 10000, f'R$ {v/1e6:.2f}M', ha='center', va='bottom', fontsize=9) # Formata para milhões\n",
        "\n",
        "# Ajustar o eixo Y para melhor visualização (opcional)\n",
        "plt.ylim(0, max(faturamentos) * 1.1) # Define o limite do eixo Y um pouco acima do maior valor\n",
        "\n",
        "# Exibir o gráfico\n",
        "plt.show()"
      ],
      "metadata": {
        "colab": {
          "base_uri": "https://localhost:8080/",
          "height": 487
        },
        "id": "4Ia-Dth_txnZ",
        "outputId": "b4ecf0d2-acad-4914-a3da-978a037af6bb"
      },
      "execution_count": 8,
      "outputs": [
        {
          "output_type": "display_data",
          "data": {
            "text/plain": [
              "<Figure size 800x500 with 1 Axes>"
            ],
            "image/png": "[encoded data removed]"
          },
          "metadata": {}
        }
      ]
    },
    {
      "cell_type": "markdown",
      "source": [],
      "metadata": {
        "id": "Zik43AUnvtYp"
      }
    },
    {
      "cell_type": "code",
      "source": [],
      "metadata": {
        "id": "rddMjlMfvuDs"
      },
      "execution_count": null,
      "outputs": []
    },
    {
      "cell_type": "markdown",
      "source": [
        "Gráfico 2: Média de Avaliação dos Clientes"
      ],
      "metadata": {
        "id": "aDfyjTemuoSx"
      }
    },
    {
      "cell_type": "code",
      "source": [
        "# Dados para o gráfico de avaliação média\n",
        "# lojas_nomes já foi definido no gráfico anterior\n",
        "medias_avaliacao = [media_avaliacao_loja1, media_avaliacao_loja2, media_avaliacao_loja3, media_avaliacao_loja4]\n",
        "\n",
        "# Criar o gráfico de barras\n",
        "plt.figure(figsize=(8, 5))\n",
        "plt.bar(lojas_nomes, medias_avaliacao, color=['skyblue', 'lightcoral', 'lightgreen', 'gold'])\n",
        "\n",
        "# Adicionar título e rótulos aos eixos\n",
        "plt.title('Média de Avaliação dos Clientes por Loja')\n",
        "plt.xlabel('Lojas')\n",
        "plt.ylabel('Média da Avaliação (1-5)')\n",
        "\n",
        "# Adicionar rótulos de dados (valores) acima das barras\n",
        "for i, v in enumerate(medias_avaliacao):\n",
        "    plt.text(i, v + 0.01, f'{v:.2f}', ha='center', va='bottom', fontsize=9) # Formata para 2 casas decimais\n",
        "\n",
        "# Ajustar o eixo Y para focar na variação das médias (ex: de 3.8 a 4.2)\n",
        "min_avaliacao = min(medias_avaliacao)\n",
        "max_avaliacao = max(medias_avaliacao)\n",
        "plt.ylim(min_avaliacao - 0.05, max_avaliacao + 0.05) # Define limites um pouco abaixo do mínimo e acima do máximo\n",
        "\n",
        "# Exibir o gráfico\n",
        "plt.show()"
      ],
      "metadata": {
        "colab": {
          "base_uri": "https://localhost:8080/",
          "height": 488
        },
        "id": "U6N3yuDAu-D0",
        "outputId": "68ec7063-b59d-4c8b-fa4a-5fe7f2b28079"
      },
      "execution_count": 9,
      "outputs": [
        {
          "output_type": "display_data",
          "data": {
            "text/plain": [
              "<Figure size 800x500 with 1 Axes>"
            ],
            "image/png": "[encoded data removed]"
          },
          "metadata": {}
        }
      ]
    },
    {
      "cell_type": "markdown",
      "source": [],
      "metadata": {
        "id": "YBOhidCVvyrp"
      }
    },
    {
      "cell_type": "markdown",
      "source": [
        "Gráfico 3: Custo Médio do Frete"
      ],
      "metadata": {
        "id": "9TNTJRk7wk7m"
      }
    },
    {
      "cell_type": "code",
      "source": [
        "# Dados para o gráfico de custo médio do frete\n",
        "# lojas_nomes já foi definido\n",
        "medias_frete = [media_frete_loja1, media_frete_loja2, media_frete_loja3, media_frete_loja4]\n",
        "\n",
        "# Criar o gráfico de barras\n",
        "plt.figure(figsize=(8, 5))\n",
        "plt.bar(lojas_nomes, medias_frete, color=['skyblue', 'lightcoral', 'lightgreen', 'gold'])\n",
        "\n",
        "# Adicionar título e rótulos aos eixos\n",
        "plt.title('Custo Médio do Frete por Loja')\n",
        "plt.xlabel('Lojas')\n",
        "plt.ylabel('Custo Médio do Frete (R$)')\n",
        "\n",
        "# Adicionar rótulos de dados (valores) acima das barras\n",
        "for i, v in enumerate(medias_frete):\n",
        "    plt.text(i, v + 0.1, f'R$ {v:.2f}', ha='center', va='bottom', fontsize=9) # Formata para R$ XX.XX\n",
        "\n",
        "# Ajustar o eixo Y para melhor visualização\n",
        "min_frete = min(medias_frete)\n",
        "max_frete = max(medias_frete)\n",
        "plt.ylim(min_frete - 1, max_frete + 1) # Define limites um pouco abaixo do mínimo e acima do máximo\n",
        "\n",
        "# Exibir o gráfico\n",
        "plt.show()"
      ],
      "metadata": {
        "colab": {
          "base_uri": "https://localhost:8080/",
          "height": 488
        },
        "id": "UA1NT3FPvyRz",
        "outputId": "6e2253e4-28b9-4ba3-bf32-61d10a20d927"
      },
      "execution_count": 10,
      "outputs": [
        {
          "output_type": "display_data",
          "data": {
            "text/plain": [
              "<Figure size 800x500 with 1 Axes>"
            ],
            "image/png": "[encoded data removed]"
          },
          "metadata": {}
        }
      ]
    },
    {
      "cell_type": "markdown",
      "source": [],
      "metadata": {
        "id": "8J2mqRuIvxYp"
      }
    },
    {
      "cell_type": "markdown",
      "source": [
        "# Relatório de Análise de Desempenho das Lojas\n",
        "\n",
        "**Para:** Sr. João\n",
        "\n",
        "**Data:** 02/05/2025 17:51:03 (UTC-3) (Data/Hora da análise: 02/05/2025 20:51:03 (UTC))\n",
        "\n",
        "**Assunto:** Análise Comparativa e Recomendação de Loja para Venda\n",
        "\n",
        "## 1. Introdução\n",
        "\n",
        "Este relatório apresenta uma análise comparativa do desempenho das Lojas 1, 2, 3 e 4, com base nos dados de vendas fornecidos. O objetivo é identificar a loja com o desempenho geral mais baixo para auxiliar na decisão de qual unidade vender. As métricas analisadas incluem: Faturamento Total, Vendas por Categoria, Média de Avaliação dos Clientes, Produtos Mais e Menos Vendidos, e Custo Médio do Frete.\n",
        "\n",
        "## 2. Resumo dos Resultados\n",
        "\n",
        "A análise das métricas revelou os seguintes pontos-chave para cada loja:\n",
        "\n",
        "*   **Faturamento Total:**\n",
        "    *   A Loja 3 apresentou o maior faturamento (aprox. R$ 1.64M), seguida pela Loja 2 (R$ 1.59M) e Loja 1 (R$ 1.53M).\n",
        "    *   A **Loja 4 registrou o menor faturamento** (R$ 1.38M), conforme visualizado no Gráfico 1.\n",
        "\n",
        "*   **Vendas por Categoria:**\n",
        "    *   Todas as lojas apresentam um mix de categorias relativamente diversificado, com destaque para Eletrônicos, Móveis, Livros e Eletrodomésticos em diferentes ordens de popularidade. Nenhuma loja mostrou uma concentração excessiva ou falta crítica em categorias principais.\n",
        "\n",
        "*   **Média de Avaliação dos Clientes:**\n",
        "    *   A Loja 3 obteve a maior média de avaliação (4.05).\n",
        "    *   A **Loja 1 apresentou a menor média de avaliação** (3.98), indicando menor satisfação do cliente, seguida de perto pela Loja 4 (4.00). A Loja 2 ficou com uma média boa (4.03). (Ver Gráfico 2).\n",
        "\n",
        "*   **Produtos Mais e Menos Vendidos:**\n",
        "    *   Houve uma variação considerável nos produtos específicos mais e menos vendidos entre as lojas. Alguns produtos populares em uma loja aparecem entre os menos vendidos em outra (ex: Micro-ondas, Guarda-roupas). Isso sugere que o desempenho de produtos individuais varia localmente, mas não aponta uma loja como claramente inferior nesta métrica isolada.\n",
        "\n",
        "*   **Custo Médio do Frete:**\n",
        "    *   A **Loja 1 registrou o maior custo médio de frete** (R$ 34.69).\n",
        "    *   A Loja 4 apresentou o menor custo médio de frete (R$ 31.28).\n",
        "    *   Lojas 2 e 3 tiveram custos intermediários e próximos. (Ver Gráfico 3).\n",
        "\n",
        "## 3. Discussão\n",
        "\n",
        "*   **Loja 3:** É consistentemente a de melhor desempenho, liderando em faturamento e avaliação média, com custos de frete na média. Claramente não é candidata à venda.\n",
        "*   **Loja 2:** Apresenta um desempenho sólido e equilibrado em todas as métricas, sem pontos fracos evidentes. Também não é a principal candidata à venda.\n",
        "*   **Loja 4:** Embora tenha o ponto positivo do frete mais baixo, seu **faturamento significativamente inferior** às demais é um ponto de grande preocupação. Sua avaliação média também está entre as mais baixas.\n",
        "*   **Loja 1:** Apesar de ter um faturamento razoável (superior à Loja 4), seus indicadores de experiência do cliente são os piores: **menor avaliação média e maior custo de frete**. Esses fatores combinados podem indicar problemas operacionais, logísticos ou de percepção da marca que afetam a satisfação e podem dificultar o crescimento futuro.\n",
        "\n",
        "## 4. Recomendação\n",
        "\n",
        "Com base na análise dos dados e visualizações:\n",
        "\n",
        "**Recomenda-se a venda da Loja 1.**\n",
        "\n",
        "## 5. Justificativa\n",
        "\n",
        "A decisão baseia-se na combinação de fatores negativos que afetam diretamente a experiência e a percepção do cliente:\n",
        "\n",
        "1.  **Pior Avaliação Média (3.98):** Indica menor satisfação geral dos clientes que compraram nesta loja, o que pode levar a menor retenção e boca a boca negativo.\n",
        "2.  **Maior Custo Médio de Frete (R$ 34.69):** Torna a compra menos atrativa para os clientes em comparação com as outras lojas, podendo ser uma barreira para a conversão de vendas.\n",
        "\n",
        "Embora a Loja 4 tenha o menor faturamento, os problemas da Loja 1 relacionados à satisfação do cliente e aos custos adicionais (frete) são considerados indicadores mais críticos de possíveis problemas operacionais ou de posicionamento no mercado, que podem ser mais difíceis ou custosos de corrigir do que tentar impulsionar as vendas da Loja 4 (que já possui a vantagem do frete baixo). Portanto, a Loja 1 representa o maior risco ou o menor potencial de retorno futuro entre as opções.\n"
      ],
      "metadata": {
        "id": "LYginWcUyKhI"
      }
    }
  ]
}